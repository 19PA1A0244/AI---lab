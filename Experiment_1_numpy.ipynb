{
  "nbformat": 4,
  "nbformat_minor": 0,
  "metadata": {
    "colab": {
      "name": "Experiment-1 numpy.ipynb",
      "provenance": [],
      "authorship_tag": "ABX9TyMILCyv2ew+mVeYpGxJdPm6",
      "include_colab_link": true
    },
    "kernelspec": {
      "name": "python3",
      "display_name": "Python 3"
    }
  },
  "cells": [
    {
      "cell_type": "markdown",
      "metadata": {
        "id": "view-in-github",
        "colab_type": "text"
      },
      "source": [
        "<a href=\"https://colab.research.google.com/github/19PA1A0244/AI---lab/blob/master/Experiment_1_numpy.ipynb\" target=\"_parent\"><img src=\"https://colab.research.google.com/assets/colab-badge.svg\" alt=\"Open In Colab\"/></a>"
      ]
    },
    {
      "cell_type": "markdown",
      "metadata": {
        "id": "kZi0BURirPL3",
        "colab_type": "text"
      },
      "source": [
        "EXPERIMENT-1\n",
        "1.NUMPY\n"
      ]
    },
    {
      "cell_type": "markdown",
      "metadata": {
        "id": "bS-0L2dZOK8P",
        "colab_type": "text"
      },
      "source": [
        "i.Different ways to create Numpy arrays\n"
      ]
    },
    {
      "cell_type": "code",
      "metadata": {
        "id": "PqP6szTJrqVs",
        "colab_type": "code",
        "colab": {
          "base_uri": "https://localhost:8080/",
          "height": 34
        },
        "outputId": "65a061a0-4944-4ab2-c4bc-3da1c87c0945"
      },
      "source": [
        "import numpy as np\n",
        "a = np.array([3,6,9])  \n",
        "print (a)"
      ],
      "execution_count": null,
      "outputs": [
        {
          "output_type": "stream",
          "text": [
            "[3 6 9]\n"
          ],
          "name": "stdout"
        }
      ]
    },
    {
      "cell_type": "code",
      "metadata": {
        "id": "m5i33CS8s7gV",
        "colab_type": "code",
        "colab": {
          "base_uri": "https://localhost:8080/",
          "height": 52
        },
        "outputId": "7f0985df-b656-4d56-a417-b48996629e26"
      },
      "source": [
        "a = np.array([[1, 2], [3, 4]]) \n",
        "print (a)"
      ],
      "execution_count": null,
      "outputs": [
        {
          "output_type": "stream",
          "text": [
            "[[1 2]\n",
            " [3 4]]\n"
          ],
          "name": "stdout"
        }
      ]
    },
    {
      "cell_type": "markdown",
      "metadata": {
        "id": "wwxOJnoKtgGs",
        "colab_type": "text"
      },
      "source": [
        "ii.Add,remove,modify elements in an array.\n",
        "\n"
      ]
    },
    {
      "cell_type": "code",
      "metadata": {
        "id": "WH-TySveubWt",
        "colab_type": "code",
        "colab": {
          "base_uri": "https://localhost:8080/",
          "height": 34
        },
        "outputId": "e294b5ff-2e9a-4677-d82d-05f1e07bfe44"
      },
      "source": [
        "newArray = np.append(a,[44,36,48])\n",
        "print(newArray)"
      ],
      "execution_count": null,
      "outputs": [
        {
          "output_type": "stream",
          "text": [
            "[ 1  2  3  4 44 36 48]\n"
          ],
          "name": "stdout"
        }
      ]
    },
    {
      "cell_type": "code",
      "metadata": {
        "id": "ao1YHGYc1lml",
        "colab_type": "code",
        "colab": {
          "base_uri": "https://localhost:8080/",
          "height": 34
        },
        "outputId": "f16dea81-ed23-4821-b0c3-051d0ae71110"
      },
      "source": [
        "import numpy as np\n",
        "l=np.array([4,6,9,3,7])\n",
        "l=np.delete(l,4)\n",
        "print(l)"
      ],
      "execution_count": null,
      "outputs": [
        {
          "output_type": "stream",
          "text": [
            "[4 6 9 3]\n"
          ],
          "name": "stdout"
        }
      ]
    },
    {
      "cell_type": "code",
      "metadata": {
        "id": "ye2P7NE43_Oi",
        "colab_type": "code",
        "colab": {
          "base_uri": "https://localhost:8080/",
          "height": 34
        },
        "outputId": "0ad6e7d8-243a-4613-c477-5fc3eb18903c"
      },
      "source": [
        "b=np.array([6,9,8,5,2,1])\n",
        "b[b<2]=-1\n",
        "print(b)"
      ],
      "execution_count": null,
      "outputs": [
        {
          "output_type": "stream",
          "text": [
            "[ 6  9  8  5  2 -1]\n"
          ],
          "name": "stdout"
        }
      ]
    },
    {
      "cell_type": "markdown",
      "metadata": {
        "id": "U6myg3YbV5ty",
        "colab_type": "text"
      },
      "source": [
        "iii.Arthimetic operations on Numpy array"
      ]
    },
    {
      "cell_type": "code",
      "metadata": {
        "id": "xHAOunESWBWO",
        "colab_type": "code",
        "colab": {
          "base_uri": "https://localhost:8080/",
          "height": 766
        },
        "outputId": "09426853-e8d0-49cd-85a4-50459e09dbeb"
      },
      "source": [
        "import numpy as np\n",
        "k=np.random.random((6,6))\n",
        "p=np.random.random((6,6))\n",
        "sum=np.add(k,p)\n",
        "diff=np.subtract(k,p)\n",
        "prod=np.multiply(k,p)\n",
        "quo=np.divide(k,p)\n",
        "mod=np.mod(k,p)\n",
        "pow=np.power(k,p)\n",
        "print(sum)\n",
        "print(diff)\n",
        "print(prod)\n",
        "print(quo)\n",
        "print(mod)\n",
        "print(pow)"
      ],
      "execution_count": null,
      "outputs": [
        {
          "output_type": "stream",
          "text": [
            "[[1.40296832 0.85223334 0.52770034 1.47781158 0.2845088  1.51976508]\n",
            " [1.00380709 1.00632855 1.27236259 1.15092344 0.73509764 1.47485498]\n",
            " [1.07803492 0.930016   1.17345176 0.53593657 0.53062524 1.32543951]\n",
            " [1.0167267  1.67072737 0.14408865 0.70111496 1.02552279 1.55801432]\n",
            " [1.40605763 1.33103743 1.02675803 0.68620517 1.29757351 0.7776001 ]\n",
            " [1.00599213 0.03736252 1.05293533 1.02922625 1.07559959 0.87096344]]\n",
            "[[-0.02448182  0.10260167  0.42654694  0.45801525  0.25749618 -0.40471507]\n",
            " [ 0.59144561 -0.72716525 -0.47318019 -0.3555756  -0.44514674  0.08712191]\n",
            " [-0.49497753  0.15349064  0.27474371  0.10042693 -0.26146527  0.66557886]\n",
            " [-0.73414566  0.32920157  0.03007948  0.50911839  0.51036179 -0.25861603]\n",
            " [ 0.11883542  0.61292275 -0.59201453  0.27316853 -0.46773458  0.09601261]\n",
            " [ 0.92465693 -0.01383082  0.08416459 -0.29361636  0.50628491 -0.13538081]]\n",
            "[[4.91930188e-01 1.78943639e-01 2.41313400e-02 4.93537276e-01\n",
            "  3.66024361e-03 5.36472901e-01]\n",
            " [1.64455188e-01 1.20981965e-01 3.48751765e-01 2.99547688e-01\n",
            "  8.55532296e-02 5.41901745e-01]\n",
            " [2.29289131e-01 2.10342597e-01 3.25376230e-01 6.92856103e-02\n",
            "  5.32997647e-02 3.28448668e-01]\n",
            " [1.23690833e-01 6.70739065e-01 4.96419074e-03 5.80901641e-02\n",
            "  1.97806957e-01 5.90131593e-01]\n",
            " [4.90719049e-01 3.48996586e-01 1.75937713e-01 9.90641210e-02\n",
            "  3.66230345e-01 1.48860873e-01]\n",
            " [3.92574340e-02 3.01166569e-04 2.75397285e-01 2.43274025e-01\n",
            "  2.25147515e-01 1.85062339e-01]]\n",
            "[[ 0.96569853  1.27373889  9.43366459  1.89824848 20.06487976  0.57940322]\n",
            " [ 3.86857841  0.16104085  0.45784177  0.52794447  0.24567022  1.12556005]\n",
            " [ 0.37066292  1.3953268   1.61141926  1.4611927   0.33980961  3.01733158]\n",
            " [ 0.16139443  1.49078679  1.52766784  6.30341127  2.98136816  0.71527942]\n",
            " [ 1.18463855  2.70703306  0.26856367  2.32273267  0.47008164  1.28173233]\n",
            " [23.7369423   0.45966321  1.17375542  0.5560827   2.77857669  0.73094534]]\n",
            "[[0.68924325 0.10260167 0.02193332 0.45801525 0.00087629 0.557525  ]\n",
            " [0.17908414 0.13958165 0.3995912  0.39767392 0.14497545 0.08712191]\n",
            " [0.29152869 0.15349064 0.27474371 0.10042693 0.13457998 0.00571821]\n",
            " [0.14129052 0.32920157 0.03007948 0.02912696 0.2527813  0.64969915]\n",
            " [0.11883542 0.25386541 0.21737175 0.06665021 0.41491947 0.09601261]\n",
            " [0.02996968 0.01176585 0.08416459 0.36780494 0.22162757 0.36779132]]\n",
            "[[0.76672993 0.75795952 0.96326596 0.98350838 0.98252037 0.56996132]\n",
            " [0.95444948 0.18146071 0.44905731 0.49927979 0.31993463 0.84238318]\n",
            " [0.37928748 0.78821572 0.86496653 0.77930084 0.45189428 0.99851611]\n",
            " [0.18029272 0.99997617 0.87010497 0.95292107 0.93424951 0.67590201]\n",
            " [0.83982472 0.98984749 0.29076443 0.85923497 0.46003853 0.75407184]\n",
            " [0.99856583 0.89251264 0.76070017 0.51604812 0.93541895 0.60453684]]\n"
          ],
          "name": "stdout"
        }
      ]
    },
    {
      "cell_type": "markdown",
      "metadata": {
        "id": "ys9YnubcXSml",
        "colab_type": "text"
      },
      "source": [
        "iv.Slicing and iterating of numpy arrays"
      ]
    },
    {
      "cell_type": "markdown",
      "metadata": {
        "id": "K_zWRFt2XZ7z",
        "colab_type": "text"
      },
      "source": [
        "Slicing\n"
      ]
    },
    {
      "cell_type": "code",
      "metadata": {
        "id": "EPGrM0U7Xcs8",
        "colab_type": "code",
        "colab": {
          "base_uri": "https://localhost:8080/",
          "height": 34
        },
        "outputId": "171e7b7d-415d-4922-9a44-b2cd5aeb5a44"
      },
      "source": [
        "import numpy as np\n",
        "ar=np.array([9,8,7,1,2,3])\n",
        "print(ar[2:6])"
      ],
      "execution_count": null,
      "outputs": [
        {
          "output_type": "stream",
          "text": [
            "[7 1 2 3]\n"
          ],
          "name": "stdout"
        }
      ]
    },
    {
      "cell_type": "markdown",
      "metadata": {
        "id": "QR_ezgsCXt21",
        "colab_type": "text"
      },
      "source": [
        "Iterating"
      ]
    },
    {
      "cell_type": "code",
      "metadata": {
        "id": "I_zxl_ZWXwH5",
        "colab_type": "code",
        "colab": {
          "base_uri": "https://localhost:8080/",
          "height": 124
        },
        "outputId": "9c4f49fa-ffc4-4ecd-ac98-89f97d864a5b"
      },
      "source": [
        "for i in ar:\n",
        "  print(i)"
      ],
      "execution_count": null,
      "outputs": [
        {
          "output_type": "stream",
          "text": [
            "9\n",
            "8\n",
            "7\n",
            "1\n",
            "2\n",
            "3\n"
          ],
          "name": "stdout"
        }
      ]
    },
    {
      "cell_type": "markdown",
      "metadata": {
        "id": "v3ZiJFPHX32A",
        "colab_type": "text"
      },
      "source": [
        "v.Matrix operation on numpy arrays."
      ]
    },
    {
      "cell_type": "code",
      "metadata": {
        "id": "P4VFZPoGX9ta",
        "colab_type": "code",
        "colab": {
          "base_uri": "https://localhost:8080/",
          "height": 124
        },
        "outputId": "7898cc8b-c12f-49a0-8710-d921bb1cde85"
      },
      "source": [
        "import numpy as np\n",
        "s=np.array([[6,9,10],[4,8,3]])\n",
        "p=np.array([[2,7,16],[1,5,12]])\n",
        "print(np.add(s,p))\n",
        "print(np.subtract(s,p))\n",
        "print(np.divide(s,p))"
      ],
      "execution_count": null,
      "outputs": [
        {
          "output_type": "stream",
          "text": [
            "[[ 8 16 26]\n",
            " [ 5 13 15]]\n",
            "[[ 4  2 -6]\n",
            " [ 3  3 -9]]\n",
            "[[3.         1.28571429 0.625     ]\n",
            " [4.         1.6        0.25      ]]\n"
          ],
          "name": "stdout"
        }
      ]
    }
  ]
}